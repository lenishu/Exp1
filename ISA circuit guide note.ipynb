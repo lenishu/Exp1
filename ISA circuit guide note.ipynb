{
 "cells": [
  {
   "cell_type": "code",
   "execution_count": 16,
   "id": "9c558bef-1963-453f-8b6c-3d409ad72d82",
   "metadata": {},
   "outputs": [
    {
     "name": "stdout",
     "output_type": "stream",
     "text": [
      "SparsePauliOp(['II', 'XX', 'YY', 'ZZ'],\n",
      "              coeffs=[ 1.+0.j,  1.+0.j, -1.+0.j,  1.+0.j])\n"
     ]
    }
   ],
   "source": [
    "from qiskit.transpiler.preset_passmanagers import generate_preset_pass_manager\n",
    "from qiskit.quantum_info import SparsePauliOp\n",
    "from qiskit import QuantumCircuit, QuantumRegister\n",
    "from qiskit_ibm_runtime import QiskitRuntimeService\n",
    "from qiskit_aer import AerSimulator\n",
    "\n",
    "\n",
    "\n",
    "# Create a simple quantum circuit which prepares a Bell state\n",
    "qubits = QuantumRegister(2)\n",
    "circuit = QuantumCircuit(qubits)\n",
    "q0, q1 = qubits\n",
    "circuit.h(q0)\n",
    "circuit.cx(q0, q1)\n",
    "\n",
    "# Initialize a QiskitRuntimeService object and obtain a backend to run this circuit on\n",
    "# service = QiskitRuntimeService(channel ='ibm_quantum', token = '')\n",
    "# backend = service.get_backend(\"ibm_osaka\")\n",
    "\n",
    "\n",
    "# backend = AerSimulator() ( backend as aer has no layout: None) \n",
    "\n",
    "from qiskit_ibm_runtime.fake_provider import FakeSherbrooke\n",
    "\n",
    "backend = FakeSherbrooke()\n",
    "\n",
    "# Create a staged pass manager which will translate the circuit in terms of the basis gates of the backend\n",
    "pm = generate_preset_pass_manager(optimization_level=1, backend=backend)\n",
    "isa_circuit = pm.run(circuit)\n",
    "isa_circuit.draw('mpl', idle_wires=False)\n",
    "\n",
    "observable = SparsePauliOp([\"II\", \"XX\", \"YY\", \"ZZ\"], coeffs=[1, 1, -1, 1])\n",
    "print(observable)\n",
    "# Get the qubit layout from the transpiled circuit\n",
    "layout = isa_circuit.layout\n",
    "\n",
    "# Ensure the observables are formatted to respect this layout.  This will insert Identity gates on \n",
    "# qubits where no expectation value is specified\n",
    "observables = observable.apply_layout(layout)\n",
    "\n",
    "# Now the `isa_circuit` and `observables` list conforms to the backend's ISA. At this point\n",
    "# you can submit you can submit a job using the primitives as you normally would."
   ]
  },
  {
   "cell_type": "code",
   "execution_count": 15,
   "id": "82bb25da-4efc-4176-8380-43ca7e49bb36",
   "metadata": {},
   "outputs": [
    {
     "data": {
      "text/plain": [
       "SparsePauliOp(['IIIIIIIIIIIIIIIIIIIIIIIIIIIIIIIIIIIIIIIIIIIIIIIIIIIIIIIIIIIIIIIIIIIIIIIIIIIIIIIIIIIIIIIIIIIIIIIIIIIIIIIIIIIIIIIIIIIIIIIIIIIIIII', 'IIIIIIIIIIIIIIIIIIIIIIIIIIIIIIIIIIIIIIIIIIIIIIIIIIIIIIIIIIIIIIIIIIIIIIIIIIIIIIIIIIIIIIIIIIIIIIIIIIIIIIIIIIIIIIIIIIIIIIIIIIIIIXX', 'IIIIIIIIIIIIIIIIIIIIIIIIIIIIIIIIIIIIIIIIIIIIIIIIIIIIIIIIIIIIIIIIIIIIIIIIIIIIIIIIIIIIIIIIIIIIIIIIIIIIIIIIIIIIIIIIIIIIIIIIIIIIIYY', 'IIIIIIIIIIIIIIIIIIIIIIIIIIIIIIIIIIIIIIIIIIIIIIIIIIIIIIIIIIIIIIIIIIIIIIIIIIIIIIIIIIIIIIIIIIIIIIIIIIIIIIIIIIIIIIIIIIIIIIIIIIIIIZZ'],\n",
       "              coeffs=[ 1.+0.j,  1.+0.j, -1.+0.j,  1.+0.j])"
      ]
     },
     "execution_count": 15,
     "metadata": {},
     "output_type": "execute_result"
    }
   ],
   "source": [
    "observables\n",
    "# here you can see that the layout of ISA cricuit ( circuit after transpilation ) is \n",
    "# being applied to observables to match ISA circuit layout ( hardware of IBM quantum ) \n"
   ]
  },
  {
   "cell_type": "code",
   "execution_count": null,
   "id": "9ce46b38-904a-48c6-a73a-7e4384a41c6e",
   "metadata": {},
   "outputs": [],
   "source": [
    "from qiskit_ibm_runtime.fake_provider import FakeSherbrooke\n",
    "\n",
    "backend_fake = FakeSherbrooke()"
   ]
  }
 ],
 "metadata": {
  "kernelspec": {
   "display_name": "Python IBM Challenge",
   "language": "python",
   "name": "ibm_c"
  },
  "language_info": {
   "codemirror_mode": {
    "name": "ipython",
    "version": 3
   },
   "file_extension": ".py",
   "mimetype": "text/x-python",
   "name": "python",
   "nbconvert_exporter": "python",
   "pygments_lexer": "ipython3",
   "version": "3.12.3"
  }
 },
 "nbformat": 4,
 "nbformat_minor": 5
}
