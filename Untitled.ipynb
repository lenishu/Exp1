{
 "cells": [
  {
   "cell_type": "code",
   "execution_count": 1,
   "id": "b60d4e78-048d-4124-971c-82a8a713cde7",
   "metadata": {},
   "outputs": [],
   "source": [
    "# session 2 qubit circuit\n",
    "\n",
    "from qiskit_ibm_runtime import QiskitRuntimeService, Session\n",
    "import pandas as pd\n",
    "import matplotlib.pyplot as plt\n",
    "\n",
    "import numpy as np\n",
    "\n",
    "service1 = QiskitRuntimeService(\n",
    "    channel='ibm_quantum',\n",
    "    instance='ibm-q/open/main',\n",
    "    token='fd6125b5c49d263b565801afa33551c6ee1b6140d64d12cfa55fc77d8f030ed160c312d6743e1758babe4a62f0f573911fc5c39a5d219dc68c377cd42d08a7b3'\n",
    ") # service 1 used by 4, 10, 20 - my acc\n",
    "\n",
    "\n",
    "\n",
    "service2 = QiskitRuntimeService(\n",
    "    channel='ibm_quantum',\n",
    "    instance='ibm-q/open/main',\n",
    "    token='6242e54049d2ff9d25f377e77cadb313c90218d089a371bf06952cf4b9ec5cddddbf79a319ced5e00d1256042933b52ca66083afb47919d96cb5b58e47ef7a9a'\n",
    ") # service 2 used by 2, 30 ,50 - nikhila acc\n"
   ]
  },
  {
   "cell_type": "code",
   "execution_count": 2,
   "id": "3f004995-659e-4546-83be-cf90bd511957",
   "metadata": {},
   "outputs": [],
   "source": [
    "Qubit_2 = pd.read_csv('E:/temp/ibm_challenge/notes/Qubit_2.csv')\n",
    "Qubit_4 = pd.read_csv('E:/temp/ibm_challenge/notes/Qubit_4.csv')\n",
    "Qubit_10= pd.read_csv('E:/temp/ibm_challenge/notes/Qubit_10.csv')\n",
    "Qubit_20 = pd.read_csv('E:/temp/ibm_challenge/notes/Qubit_20.csv')\n",
    "Qubit_30 = pd.read_csv('E:/temp/ibm_challenge/notes/Qubit_30.csv')\n",
    "Qubit_50 = pd.read_csv('E:/temp/ibm_challenge/notes/Qubit_50.csv')"
   ]
  },
  {
   "cell_type": "code",
   "execution_count": 3,
   "id": "72487aa6-e310-4713-ae8d-b575905655b1",
   "metadata": {},
   "outputs": [],
   "source": [
    "Qubit_2 = Qubit_2[Qubit_2['Status'] == 'Completed']\n",
    "Qubit_4 = Qubit_4[Qubit_4['Status'] == 'Completed']\n",
    "Qubit_10 = Qubit_10[Qubit_10['Status'] == 'Completed']\n",
    "Qubit_20 = Qubit_20[Qubit_20['Status'] == 'Completed']\n",
    "Qubit_30 = Qubit_30[Qubit_30['Status'] == 'Completed']\n",
    "Qubit_50 = Qubit_50[Qubit_50['Status'] == 'Completed']\n",
    "\n",
    "\n",
    "\n",
    "\n",
    "Qubit_2 = Qubit_2.copy()\n",
    "Qubit_4 = Qubit_4.copy()\n",
    "Qubit_10 = Qubit_10.copy()\n",
    "Qubit_20 = Qubit_20.copy()\n",
    "Qubit_30 = Qubit_30.copy()\n",
    "Qubit_50 = Qubit_50.copy()\n",
    "\n"
   ]
  },
  {
   "cell_type": "code",
   "execution_count": 20,
   "id": "4f1f9c41-b43b-4232-9d78-01fa512c2418",
   "metadata": {},
   "outputs": [],
   "source": [
    "service1_qubits = [Qubit_4, Qubit_10, Qubit_20]\n",
    "\n",
    "circuit_1 = [Qubit_2, Qubit_4, Qubit_10, Qubit_20, Qubit_30, Qubit_50]\n",
    "\n",
    "service = [service1, service2]\n",
    "# Function to simulate job metrics retrieval\n",
    "def get_job_metrics(qubit_n, job_id, service):\n",
    "    if any(qubit_n.equals(q) for q in service1_qubits):\n",
    "            job = service[0].job(job_id)  # Replace with the actual function to get the job\n",
    "    else:\n",
    "            job = service[1].job(job_id)  # Replace with the actual function to get the job\n",
    "           \n",
    "\n",
    "    metrics = job.metrics()\n",
    "    running = metrics['timestamps']['running']\n",
    "    finished = metrics['timestamps']['finished']\n",
    "    return running, finished\n",
    "\n"
   ]
  },
  {
   "cell_type": "code",
   "execution_count": 21,
   "id": "e047c244-4e78-4a15-855c-5144b487589a",
   "metadata": {},
   "outputs": [],
   "source": [
    "def process_qubits(circuit_1, service1_qubits):\n",
    "    dataframes = {}\n",
    "    \n",
    "    for qubit_n in circuit_1:\n",
    "        if qubit_n.empty:\n",
    "            print(f\"DataFrame for qubit {qubit_n} is empty. Skipping...\")\n",
    "            continue\n",
    "        \n",
    "        qubit_name = qubit_n['Name'].iloc[0] if 'Name' in qubit_n.columns else 'Unknown'\n",
    "        \n",
    "        total_compute_times = []\n",
    "        usage_times = qubit_n['Usage (seconds)'].tolist()\n",
    "        \n",
    "        for job_id in qubit_n['JobId']:\n",
    "            running, finished = get_job_metrics(qubit_n, job_id, service)\n",
    "            \n",
    "            # Convert the timestamps to datetime objects\n",
    "            running = pd.to_datetime(running)\n",
    "            finished = pd.to_datetime(finished)\n",
    "            \n",
    "            # Calculate the total compute time in seconds\n",
    "            total_compute_time = (finished - running).total_seconds()\n",
    "            total_compute_times.append(total_compute_time)\n",
    "        \n",
    "        # Calculate classical compute times\n",
    "        classical_compute_times = [t - u for t, u in zip(total_compute_times, usage_times)]\n",
    "        \n",
    "        # Create DataFrame for compute times\n",
    "        compute_time_df = pd.DataFrame({\n",
    "            'JobId': qubit_n['JobId'],\n",
    "            'classical_compute_time': classical_compute_times,\n",
    "            'Usage (seconds)': usage_times\n",
    "        })\n",
    "        \n",
    "        # Save DataFrame to dictionary\n",
    "        dataframes[f'compute_time_{qubit_name}'] = compute_time_df\n",
    "    \n",
    "    return dataframes\n",
    "\n"
   ]
  },
  {
   "cell_type": "code",
   "execution_count": 22,
   "id": "e0ce1fbd-7c12-4dc3-b415-8b0b5c147f4c",
   "metadata": {},
   "outputs": [],
   "source": [
    "# Call the function and get the result\n",
    "compute_time_dataframes = process_qubits(circuit_1, service1_qubits)\n",
    "\n",
    "# Save the dataframes to CSV files with names based on the DataFrame names\n",
    "for name, df in compute_time_dataframes.items():\n",
    "    df.to_csv(f'{name}.csv', index=False)"
   ]
  },
  {
   "cell_type": "code",
   "execution_count": null,
   "id": "977c5d81-8d15-4add-a7d3-6569bffa1659",
   "metadata": {},
   "outputs": [],
   "source": []
  }
 ],
 "metadata": {
  "kernelspec": {
   "display_name": "Python (ibm_2024)",
   "language": "python",
   "name": "ibm_2024"
  },
  "language_info": {
   "codemirror_mode": {
    "name": "ipython",
    "version": 3
   },
   "file_extension": ".py",
   "mimetype": "text/x-python",
   "name": "python",
   "nbconvert_exporter": "python",
   "pygments_lexer": "ipython3",
   "version": "3.10.14"
  }
 },
 "nbformat": 4,
 "nbformat_minor": 5
}
