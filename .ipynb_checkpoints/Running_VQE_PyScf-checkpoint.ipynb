{
  "nbformat": 4,
  "nbformat_minor": 0,
  "metadata": {
    "colab": {
      "provenance": []
    },
    "kernelspec": {
      "name": "python3",
      "display_name": "Python 3"
    },
    "language_info": {
      "name": "python"
    }
  },
  "cells": [
    {
      "cell_type": "code",
      "execution_count": null,
      "metadata": {
        "id": "Aprk7MHK2ADr"
      },
      "outputs": [],
      "source": [
        "# !pip install qiskit\n",
        "# !pip install qiskit-nature\n",
        "# !pip install qiskit-runtime\n",
        "# !pip install qiskit-visualization\n",
        "# !pip install qiskit[visualization]\n",
        "# !pip install qiskit-ibm-runtime\n",
        "# !pip install qiskit-nature-pyscf\n",
        "# !pip install qiskit-algorithms"
      ]
    },
    {
      "cell_type": "code",
      "source": [
        "from qiskit import QuantumCircuit\n",
        "from qiskit_ibm_runtime import QiskitRuntimeService, Session\n",
        "from qiskit.visualization import plot_histogram\n"
      ],
      "metadata": {
        "id": "gvduaWsa33om"
      },
      "execution_count": null,
      "outputs": []
    },
    {
      "cell_type": "code",
      "source": [
        "# demo circuit\n",
        "qc = QuantumCircuit(2, 2)\n",
        "qc.x(0)\n",
        "qc.h(0)\n",
        "qc.cx(0,1)\n",
        "qc.draw(output = 'mpl')\n",
        "\n"
      ],
      "metadata": {
        "colab": {
          "base_uri": "https://localhost:8080/",
          "height": 255
        },
        "id": "vtY4t9N64rhz",
        "outputId": "77b3878d-c3a1-461a-9b13-f966c81eda09"
      },
      "execution_count": null,
      "outputs": [
        {
          "output_type": "execute_result",
          "data": {
            "text/plain": [
              "<Figure size 370.906x284.278 with 1 Axes>"
            ],
            "image/png": "[encoded data removed]"
          },
          "metadata": {},
          "execution_count": 31
        }
      ]
    },
    {
      "cell_type": "code",
      "source": [
        "## to create hamiltonian for vqe"
      ],
      "metadata": {
        "id": "oPOqGW_G43Nu"
      },
      "execution_count": null,
      "outputs": []
    },
    {
      "cell_type": "code",
      "source": [
        "from qiskit_nature.units import DistanceUnit\n",
        "from qiskit_nature.second_q.drivers import PySCFDriver"
      ],
      "metadata": {
        "id": "B4iCzRXX5Tyb"
      },
      "execution_count": null,
      "outputs": []
    },
    {
      "cell_type": "code",
      "source": [
        "driver = PySCFDriver(\n",
        "    atom=\"H 0 0 0; H 0 0 0.735\",\n",
        "    basis=\"sto3g\",\n",
        "    charge=0,\n",
        "    spin=0,\n",
        "    unit=DistanceUnit.ANGSTROM,\n",
        ")\n",
        "\n",
        "problem = driver.run()"
      ],
      "metadata": {
        "id": "T-rojaH96CWS"
      },
      "execution_count": null,
      "outputs": []
    },
    {
      "cell_type": "code",
      "source": [
        "from qiskit_nature.second_q.mappers import ParityMapper\n",
        "from qiskit_algorithms.optimizers import COBYLA\n",
        "from qiskit_algorithms import VQE\n"
      ],
      "metadata": {
        "id": "Wku5lSUD5oDR"
      },
      "execution_count": null,
      "outputs": []
    },
    {
      "cell_type": "code",
      "source": [
        "## backend information\n",
        "\n",
        "from qiskit.primitives import Estimator\n",
        "from qiskit_ibm_runtime import QiskitRuntimeService"
      ],
      "metadata": {
        "id": "izJ6rf6S9F4F"
      },
      "execution_count": null,
      "outputs": []
    },
    {
      "cell_type": "code",
      "source": [
        "problem.num_particles"
      ],
      "metadata": {
        "colab": {
          "base_uri": "https://localhost:8080/"
        },
        "id": "9vdc6CkC8cRU",
        "outputId": "a5e8ae51-92d5-48da-85f3-cdfcd06b403d"
      },
      "execution_count": null,
      "outputs": [
        {
          "output_type": "execute_result",
          "data": {
            "text/plain": [
              "(1, 1)"
            ]
          },
          "metadata": {},
          "execution_count": 37
        }
      ]
    },
    {
      "cell_type": "code",
      "source": [
        "mapper = ParityMapper(problem.num_particles)\n",
        "optimizer = COBYLA(maxiter=100)\n",
        "estimator = Estimator()"
      ],
      "metadata": {
        "id": "KHJw0K-t51Ix"
      },
      "execution_count": null,
      "outputs": []
    },
    {
      "cell_type": "code",
      "source": [
        "hamiltonian = problem.hamiltonian.second_q_op()"
      ],
      "metadata": {
        "id": "TePTrSfh7MVe"
      },
      "execution_count": null,
      "outputs": []
    },
    {
      "cell_type": "code",
      "source": [
        "hamiltonian = mapper.map(hamiltonian)"
      ],
      "metadata": {
        "id": "4NtL6yq4_LV-"
      },
      "execution_count": null,
      "outputs": []
    },
    {
      "cell_type": "code",
      "source": [
        "hamiltonian"
      ],
      "metadata": {
        "colab": {
          "base_uri": "https://localhost:8080/"
        },
        "id": "tFhwDaTr_XTb",
        "outputId": "68779f10-b039-4684-af59-7eacf0b957be"
      },
      "execution_count": null,
      "outputs": [
        {
          "output_type": "execute_result",
          "data": {
            "text/plain": [
              "SparsePauliOp(['II', 'IZ', 'ZI', 'ZZ', 'XX'],\n",
              "              coeffs=[-1.05237325+0.j,  0.39793742+0.j, -0.39793742+0.j, -0.0112801 +0.j,\n",
              "  0.1809312 +0.j])"
            ]
          },
          "metadata": {},
          "execution_count": 41
        }
      ]
    },
    {
      "cell_type": "code",
      "source": [],
      "metadata": {
        "id": "d50kEnVn_Y98"
      },
      "execution_count": null,
      "outputs": []
    },
    {
      "cell_type": "code",
      "source": [],
      "metadata": {
        "id": "YtNB6kQ30oYT"
      },
      "execution_count": null,
      "outputs": []
    },
    {
      "cell_type": "code",
      "source": [],
      "metadata": {
        "id": "0IzOsKFM0qUJ"
      },
      "execution_count": null,
      "outputs": []
    },
    {
      "cell_type": "code",
      "source": [],
      "metadata": {
        "id": "cFD0qOBW0qt6"
      },
      "execution_count": null,
      "outputs": []
    }
  ]
}