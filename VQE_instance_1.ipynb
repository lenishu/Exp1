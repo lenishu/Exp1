{
 "cells": [
  {
   "cell_type": "code",
   "execution_count": 1,
   "id": "355562ee-7f03-4527-a899-a5be398bd01e",
   "metadata": {},
   "outputs": [],
   "source": [
    "from qiskit import QuantumCircuit, transpile\n",
    "# from qiskit.tools.jupyter import *\n",
    "from qiskit.visualization import *\n",
    "# from ibm_quantum_widgets import *\n",
    "\n",
    "# qiskit-ibmq-provider has been deprecated.\n",
    "# Please see the Migration Guides in https://ibm.biz/provider_migration_guide for more detail.\n",
    "from qiskit_ibm_runtime import QiskitRuntimeService, Sampler, Estimator, Session, Options\n",
    "\n",
    "# Loading your IBM Quantum account(s)\n",
    "service = QiskitRuntimeService()\n"
   ]
  },
  {
   "cell_type": "code",
   "execution_count": 2,
   "id": "3582ff93-ad80-4ac0-ab6f-3e4030be60a2",
   "metadata": {},
   "outputs": [],
   "source": [
    "# !pip install qiskit-algorithms"
   ]
  },
  {
   "cell_type": "code",
   "execution_count": 3,
   "id": "b203ba8f-f133-436e-8bb3-c592a2ff170c",
   "metadata": {},
   "outputs": [
    {
     "ename": "MissingOptionalLibraryError",
     "evalue": "\"The 'pyscf' library is required to use 'PySCFDriver'.  See https://pyscf.org/install.html.\"",
     "output_type": "error",
     "traceback": [
      "\u001b[1;31m---------------------------------------------------------------------------\u001b[0m",
      "\u001b[1;31mMissingOptionalLibraryError\u001b[0m               Traceback (most recent call last)",
      "Cell \u001b[1;32mIn[3], line 12\u001b[0m\n\u001b[0;32m      9\u001b[0m \u001b[38;5;28;01mfrom\u001b[39;00m \u001b[38;5;21;01mqiskit_nature\u001b[39;00m\u001b[38;5;21;01m.\u001b[39;00m\u001b[38;5;21;01msecond_q\u001b[39;00m\u001b[38;5;21;01m.\u001b[39;00m\u001b[38;5;21;01mdrivers\u001b[39;00m \u001b[38;5;28;01mimport\u001b[39;00m PySCFDriver\n\u001b[0;32m     10\u001b[0m \u001b[38;5;28;01mfrom\u001b[39;00m \u001b[38;5;21;01mqiskit_nature\u001b[39;00m\u001b[38;5;21;01m.\u001b[39;00m\u001b[38;5;21;01msecond_q\u001b[39;00m\u001b[38;5;21;01m.\u001b[39;00m\u001b[38;5;21;01mmappers\u001b[39;00m \u001b[38;5;28;01mimport\u001b[39;00m ParityMapper\n\u001b[1;32m---> 12\u001b[0m driver \u001b[38;5;241m=\u001b[39m \u001b[43mPySCFDriver\u001b[49m\u001b[43m(\u001b[49m\n\u001b[0;32m     13\u001b[0m \u001b[43m    \u001b[49m\u001b[43matom\u001b[49m\u001b[38;5;241;43m=\u001b[39;49m\u001b[38;5;124;43m\"\u001b[39;49m\u001b[38;5;124;43mH 0 0 0; H 0 0 0.735\u001b[39;49m\u001b[38;5;124;43m\"\u001b[39;49m\u001b[43m,\u001b[49m\n\u001b[0;32m     14\u001b[0m \u001b[43m    \u001b[49m\u001b[43mbasis\u001b[49m\u001b[38;5;241;43m=\u001b[39;49m\u001b[38;5;124;43m\"\u001b[39;49m\u001b[38;5;124;43msto3g\u001b[39;49m\u001b[38;5;124;43m\"\u001b[39;49m\u001b[43m,\u001b[49m\n\u001b[0;32m     15\u001b[0m \u001b[43m    \u001b[49m\u001b[43mcharge\u001b[49m\u001b[38;5;241;43m=\u001b[39;49m\u001b[38;5;241;43m0\u001b[39;49m\u001b[43m,\u001b[49m\n\u001b[0;32m     16\u001b[0m \u001b[43m    \u001b[49m\u001b[43mspin\u001b[49m\u001b[38;5;241;43m=\u001b[39;49m\u001b[38;5;241;43m0\u001b[39;49m\u001b[43m,\u001b[49m\n\u001b[0;32m     17\u001b[0m \u001b[43m    \u001b[49m\u001b[43munit\u001b[49m\u001b[38;5;241;43m=\u001b[39;49m\u001b[43mDistanceUnit\u001b[49m\u001b[38;5;241;43m.\u001b[39;49m\u001b[43mANGSTROM\u001b[49m\u001b[43m,\u001b[49m\n\u001b[0;32m     18\u001b[0m \u001b[43m)\u001b[49m\n",
      "File \u001b[1;32mE:\\program_files\\anaconda3\\envs\\IBM_C\\lib\\site-packages\\qiskit\\utils\\classtools.py:111\u001b[0m, in \u001b[0;36m_WrappedMethod.__get__.<locals>.out\u001b[1;34m(*args, **kwargs)\u001b[0m\n\u001b[0;32m    108\u001b[0m \u001b[38;5;129m@functools\u001b[39m\u001b[38;5;241m.\u001b[39mwraps(method)\n\u001b[0;32m    109\u001b[0m \u001b[38;5;28;01mdef\u001b[39;00m \u001b[38;5;21mout\u001b[39m(\u001b[38;5;241m*\u001b[39margs, \u001b[38;5;241m*\u001b[39m\u001b[38;5;241m*\u001b[39mkwargs):\n\u001b[0;32m    110\u001b[0m     \u001b[38;5;28;01mfor\u001b[39;00m callback \u001b[38;5;129;01min\u001b[39;00m \u001b[38;5;28mself\u001b[39m\u001b[38;5;241m.\u001b[39m_before:\n\u001b[1;32m--> 111\u001b[0m         callback\u001b[38;5;241m.\u001b[39m\u001b[38;5;21m__get__\u001b[39m(obj, objtype)(\u001b[38;5;241m*\u001b[39margs, \u001b[38;5;241m*\u001b[39m\u001b[38;5;241m*\u001b[39mkwargs)\n\u001b[0;32m    112\u001b[0m     retval \u001b[38;5;241m=\u001b[39m method(\u001b[38;5;241m*\u001b[39margs, \u001b[38;5;241m*\u001b[39m\u001b[38;5;241m*\u001b[39mkwargs)\n\u001b[0;32m    113\u001b[0m     \u001b[38;5;28;01mfor\u001b[39;00m callback \u001b[38;5;129;01min\u001b[39;00m \u001b[38;5;28mself\u001b[39m\u001b[38;5;241m.\u001b[39m_after:\n",
      "File \u001b[1;32mE:\\program_files\\anaconda3\\envs\\IBM_C\\lib\\site-packages\\qiskit\\utils\\lazy_tester.py:41\u001b[0m, in \u001b[0;36m_RequireNow.__call__\u001b[1;34m(self, *_args, **_kwargs)\u001b[0m\n\u001b[0;32m     40\u001b[0m \u001b[38;5;28;01mdef\u001b[39;00m \u001b[38;5;21m__call__\u001b[39m(\u001b[38;5;28mself\u001b[39m, \u001b[38;5;241m*\u001b[39m_args, \u001b[38;5;241m*\u001b[39m\u001b[38;5;241m*\u001b[39m_kwargs):\n\u001b[1;32m---> 41\u001b[0m     \u001b[38;5;28;43mself\u001b[39;49m\u001b[38;5;241;43m.\u001b[39;49m\u001b[43m_tester\u001b[49m\u001b[38;5;241;43m.\u001b[39;49m\u001b[43mrequire_now\u001b[49m\u001b[43m(\u001b[49m\u001b[38;5;28;43mself\u001b[39;49m\u001b[38;5;241;43m.\u001b[39;49m\u001b[43m_feature\u001b[49m\u001b[43m)\u001b[49m\n",
      "File \u001b[1;32mE:\\program_files\\anaconda3\\envs\\IBM_C\\lib\\site-packages\\qiskit\\utils\\lazy_tester.py:221\u001b[0m, in \u001b[0;36mLazyDependencyManager.require_now\u001b[1;34m(self, feature)\u001b[0m\n\u001b[0;32m    219\u001b[0m \u001b[38;5;28;01mif\u001b[39;00m \u001b[38;5;28mself\u001b[39m:\n\u001b[0;32m    220\u001b[0m     \u001b[38;5;28;01mreturn\u001b[39;00m\n\u001b[1;32m--> 221\u001b[0m \u001b[38;5;28;01mraise\u001b[39;00m MissingOptionalLibraryError(\n\u001b[0;32m    222\u001b[0m     libname\u001b[38;5;241m=\u001b[39m\u001b[38;5;28mself\u001b[39m\u001b[38;5;241m.\u001b[39m_name, name\u001b[38;5;241m=\u001b[39mfeature, pip_install\u001b[38;5;241m=\u001b[39m\u001b[38;5;28mself\u001b[39m\u001b[38;5;241m.\u001b[39m_install, msg\u001b[38;5;241m=\u001b[39m\u001b[38;5;28mself\u001b[39m\u001b[38;5;241m.\u001b[39m_msg\n\u001b[0;32m    223\u001b[0m )\n",
      "\u001b[1;31mMissingOptionalLibraryError\u001b[0m: \"The 'pyscf' library is required to use 'PySCFDriver'.  See https://pyscf.org/install.html.\""
     ]
    }
   ],
   "source": [
    "from qiskit_nature.units import DistanceUnit\n",
    "from qiskit_algorithms.optimizers import COBYLA\n",
    "from qiskit_algorithms.minimum_eigensolvers import VQE, NumPyMinimumEigensolver, MinimumEigensolverResult\n",
    "# from qiskit.primitives import Estimator\n",
    "from qiskit_ibm_runtime import Session, EstimatorV2 as Estimator\n",
    "\n",
    "from qiskit_nature import settings\n",
    "from qiskit_nature.second_q.circuit.library import HartreeFock, UCCSD\n",
    "from qiskit_nature.second_q.drivers import PySCFDriver\n",
    "from qiskit_nature.second_q.mappers import ParityMapper\n",
    "\n",
    "driver = PySCFDriver(\n",
    "    atom=\"H 0 0 0; H 0 0 0.735\",\n",
    "    basis=\"sto3g\",\n",
    "    charge=0,\n",
    "    spin=0,\n",
    "    unit=DistanceUnit.ANGSTROM,\n",
    ")"
   ]
  },
  {
   "cell_type": "code",
   "execution_count": 4,
   "id": "b2febb36-345b-42b4-a0d2-f37c70625cb1",
   "metadata": {},
   "outputs": [
    {
     "name": "stdout",
     "output_type": "stream",
     "text": [
      "Found existing installation: qiskit-nature 0.7.2\n",
      "Uninstalling qiskit-nature-0.7.2:\n",
      "  Successfully uninstalled qiskit-nature-0.7.2\n"
     ]
    }
   ],
   "source": [
    "!pip uninstall qiskit_nature --yes\n"
   ]
  },
  {
   "cell_type": "code",
   "execution_count": 5,
   "id": "7a5df45f-dd1a-4c0f-8ae8-887898450ae7",
   "metadata": {},
   "outputs": [
    {
     "name": "stderr",
     "output_type": "stream",
     "text": [
      "WARNING: Skipping pyscf as it is not installed.\n"
     ]
    }
   ],
   "source": [
    "!pip uninstall pyscf --yes"
   ]
  },
  {
   "cell_type": "code",
   "execution_count": 6,
   "id": "ceca11a6-d47d-48a7-80a7-28f31281c17e",
   "metadata": {},
   "outputs": [
    {
     "name": "stderr",
     "output_type": "stream",
     "text": [
      "WARNING: Package(s) not found: qiskit_nature\n"
     ]
    }
   ],
   "source": [
    "!pip show qiskit_nature"
   ]
  },
  {
   "cell_type": "code",
   "execution_count": 7,
   "id": "1277058e-917b-423f-867c-bd7f159d1251",
   "metadata": {},
   "outputs": [
    {
     "name": "stderr",
     "output_type": "stream",
     "text": [
      "WARNING: Package(s) not found: pyscf\n"
     ]
    }
   ],
   "source": [
    "!pip show pyscf"
   ]
  },
  {
   "cell_type": "code",
   "execution_count": 8,
   "id": "1d5f749f-f5b4-404b-959c-5bb168001bf6",
   "metadata": {},
   "outputs": [
    {
     "name": "stdout",
     "output_type": "stream",
     "text": [
      "Collecting qiskit-nature\n",
      "  Using cached qiskit_nature-0.7.2-py3-none-any.whl.metadata (8.0 kB)\n",
      "Requirement already satisfied: qiskit>=0.44 in e:\\program_files\\anaconda3\\envs\\ibm_c\\lib\\site-packages (from qiskit-nature) (1.0.2)\n",
      "Requirement already satisfied: qiskit-algorithms>=0.2.1 in e:\\program_files\\anaconda3\\envs\\ibm_c\\lib\\site-packages (from qiskit-nature) (0.3.0)\n",
      "Requirement already satisfied: scipy>=1.4 in e:\\program_files\\anaconda3\\envs\\ibm_c\\lib\\site-packages (from qiskit-nature) (1.13.1)\n",
      "Requirement already satisfied: numpy>=1.17 in e:\\program_files\\anaconda3\\envs\\ibm_c\\lib\\site-packages (from qiskit-nature) (1.26.4)\n",
      "Requirement already satisfied: psutil>=5 in e:\\program_files\\anaconda3\\envs\\ibm_c\\lib\\site-packages (from qiskit-nature) (5.9.0)\n",
      "Requirement already satisfied: setuptools>=40.1.0 in e:\\program_files\\anaconda3\\envs\\ibm_c\\lib\\site-packages (from qiskit-nature) (69.5.1)\n",
      "Requirement already satisfied: typing-extensions in e:\\program_files\\anaconda3\\envs\\ibm_c\\lib\\site-packages (from qiskit-nature) (4.12.2)\n",
      "Requirement already satisfied: h5py in e:\\program_files\\anaconda3\\envs\\ibm_c\\lib\\site-packages (from qiskit-nature) (3.11.0)\n",
      "Requirement already satisfied: rustworkx>=0.12 in e:\\program_files\\anaconda3\\envs\\ibm_c\\lib\\site-packages (from qiskit-nature) (0.14.2)\n",
      "Requirement already satisfied: sympy>=1.3 in e:\\program_files\\anaconda3\\envs\\ibm_c\\lib\\site-packages (from qiskit>=0.44->qiskit-nature) (1.12.1)\n",
      "Requirement already satisfied: dill>=0.3 in e:\\program_files\\anaconda3\\envs\\ibm_c\\lib\\site-packages (from qiskit>=0.44->qiskit-nature) (0.3.8)\n",
      "Requirement already satisfied: python-dateutil>=2.8.0 in e:\\program_files\\anaconda3\\envs\\ibm_c\\lib\\site-packages (from qiskit>=0.44->qiskit-nature) (2.9.0.post0)\n",
      "Requirement already satisfied: stevedore>=3.0.0 in e:\\program_files\\anaconda3\\envs\\ibm_c\\lib\\site-packages (from qiskit>=0.44->qiskit-nature) (5.2.0)\n",
      "Requirement already satisfied: symengine>=0.11 in e:\\program_files\\anaconda3\\envs\\ibm_c\\lib\\site-packages (from qiskit>=0.44->qiskit-nature) (0.11.0)\n",
      "Requirement already satisfied: six>=1.5 in e:\\program_files\\anaconda3\\envs\\ibm_c\\lib\\site-packages (from python-dateutil>=2.8.0->qiskit>=0.44->qiskit-nature) (1.16.0)\n",
      "Requirement already satisfied: pbr!=2.1.0,>=2.0.0 in e:\\program_files\\anaconda3\\envs\\ibm_c\\lib\\site-packages (from stevedore>=3.0.0->qiskit>=0.44->qiskit-nature) (6.0.0)\n",
      "Requirement already satisfied: mpmath<1.4.0,>=1.1.0 in e:\\program_files\\anaconda3\\envs\\ibm_c\\lib\\site-packages (from sympy>=1.3->qiskit>=0.44->qiskit-nature) (1.3.0)\n",
      "Using cached qiskit_nature-0.7.2-py3-none-any.whl (2.2 MB)\n",
      "Installing collected packages: qiskit-nature\n",
      "Successfully installed qiskit-nature-0.7.2\n"
     ]
    }
   ],
   "source": [
    "!pip install qiskit-nature"
   ]
  },
  {
   "cell_type": "code",
   "execution_count": 9,
   "id": "128db405-5a5c-4449-b8ba-325f3735cf93",
   "metadata": {},
   "outputs": [
    {
     "name": "stdout",
     "output_type": "stream",
     "text": [
      "Collecting pyscf\n",
      "  Downloading pyscf-2.6.2.tar.gz (8.8 MB)\n",
      "     ---------------------------------------- 0.0/8.8 MB ? eta -:--:--\n",
      "     ---------------------------------------- 0.0/8.8 MB ? eta -:--:--\n",
      "     ---------------------------------------- 0.0/8.8 MB 110.1 kB/s eta 0:01:20\n",
      "     ---------------------------------------- 0.0/8.8 MB 131.3 kB/s eta 0:01:07\n",
      "     ---------------------------------------- 0.1/8.8 MB 187.9 kB/s eta 0:00:47\n",
      "     ---------------------------------------- 0.1/8.8 MB 231.8 kB/s eta 0:00:38\n",
      "      --------------------------------------- 0.2/8.8 MB 459.5 kB/s eta 0:00:19\n",
      "     - -------------------------------------- 0.3/8.8 MB 713.1 kB/s eta 0:00:12\n",
      "     - -------------------------------------- 0.4/8.8 MB 933.2 kB/s eta 0:00:10\n",
      "     -- ------------------------------------- 0.5/8.8 MB 1.2 MB/s eta 0:00:08\n",
      "     --- ------------------------------------ 0.8/8.8 MB 1.6 MB/s eta 0:00:06\n",
      "     --- ------------------------------------ 0.9/8.8 MB 1.7 MB/s eta 0:00:05\n",
      "     ----- ---------------------------------- 1.2/8.8 MB 2.0 MB/s eta 0:00:04\n",
      "     ------ --------------------------------- 1.5/8.8 MB 2.3 MB/s eta 0:00:04\n",
      "     ------- -------------------------------- 1.6/8.8 MB 2.4 MB/s eta 0:00:03\n",
      "     -------- ------------------------------- 1.8/8.8 MB 2.4 MB/s eta 0:00:03\n",
      "     --------- ------------------------------ 2.2/8.8 MB 2.7 MB/s eta 0:00:03\n",
      "     ----------- ---------------------------- 2.5/8.8 MB 3.0 MB/s eta 0:00:03\n",
      "     ------------ --------------------------- 2.8/8.8 MB 3.1 MB/s eta 0:00:02\n",
      "     ------------- -------------------------- 3.1/8.8 MB 3.3 MB/s eta 0:00:02\n",
      "     --------------- ------------------------ 3.4/8.8 MB 3.4 MB/s eta 0:00:02\n",
      "     ---------------- ----------------------- 3.7/8.8 MB 3.6 MB/s eta 0:00:02\n",
      "     ----------------- ---------------------- 3.8/8.8 MB 3.6 MB/s eta 0:00:02\n",
      "     ------------------ --------------------- 4.1/8.8 MB 3.7 MB/s eta 0:00:02\n",
      "     -------------------- ------------------- 4.4/8.8 MB 3.8 MB/s eta 0:00:02\n",
      "     --------------------- ------------------ 4.7/8.8 MB 3.9 MB/s eta 0:00:02\n",
      "     ----------------------- ---------------- 5.1/8.8 MB 4.0 MB/s eta 0:00:01\n",
      "     ----------------------- ---------------- 5.2/8.8 MB 4.0 MB/s eta 0:00:01\n",
      "     -------------------------- ------------- 5.7/8.8 MB 4.2 MB/s eta 0:00:01\n",
      "     --------------------------- ------------ 6.1/8.8 MB 4.3 MB/s eta 0:00:01\n",
      "     ---------------------------- ----------- 6.4/8.8 MB 4.4 MB/s eta 0:00:01\n",
      "     ------------------------------ --------- 6.6/8.8 MB 4.4 MB/s eta 0:00:01\n",
      "     ------------------------------- -------- 7.0/8.8 MB 4.5 MB/s eta 0:00:01\n",
      "     -------------------------------- ------- 7.2/8.8 MB 4.5 MB/s eta 0:00:01\n",
      "     ---------------------------------- ----- 7.6/8.8 MB 4.6 MB/s eta 0:00:01\n",
      "     ----------------------------------- ---- 7.9/8.8 MB 4.7 MB/s eta 0:00:01\n",
      "     ------------------------------------- -- 8.2/8.8 MB 4.7 MB/s eta 0:00:01\n",
      "     -------------------------------------- - 8.5/8.8 MB 4.7 MB/s eta 0:00:01\n",
      "     ---------------------------------------  8.8/8.8 MB 4.8 MB/s eta 0:00:01\n",
      "     ---------------------------------------  8.8/8.8 MB 4.8 MB/s eta 0:00:01\n",
      "     ---------------------------------------  8.8/8.8 MB 4.8 MB/s eta 0:00:01\n",
      "     ---------------------------------------  8.8/8.8 MB 4.8 MB/s eta 0:00:01\n",
      "     ---------------------------------------  8.8/8.8 MB 4.8 MB/s eta 0:00:01\n",
      "     ---------------------------------------- 8.8/8.8 MB 4.3 MB/s eta 0:00:00\n",
      "  Installing build dependencies: started\n",
      "  Installing build dependencies: finished with status 'done'\n",
      "  Getting requirements to build wheel: started\n",
      "  Getting requirements to build wheel: finished with status 'done'\n",
      "  Preparing metadata (pyproject.toml): started\n",
      "  Preparing metadata (pyproject.toml): finished with status 'done'\n",
      "Requirement already satisfied: numpy!=1.16,!=1.17,>=1.13 in e:\\program_files\\anaconda3\\envs\\ibm_c\\lib\\site-packages (from pyscf) (1.26.4)\n",
      "Requirement already satisfied: scipy!=1.5.0,!=1.5.1 in e:\\program_files\\anaconda3\\envs\\ibm_c\\lib\\site-packages (from pyscf) (1.13.1)\n",
      "Requirement already satisfied: h5py>=2.7 in e:\\program_files\\anaconda3\\envs\\ibm_c\\lib\\site-packages (from pyscf) (3.11.0)\n",
      "Requirement already satisfied: setuptools in e:\\program_files\\anaconda3\\envs\\ibm_c\\lib\\site-packages (from pyscf) (69.5.1)\n",
      "Building wheels for collected packages: pyscf\n",
      "  Building wheel for pyscf (pyproject.toml): started\n",
      "  Building wheel for pyscf (pyproject.toml): finished with status 'error'\n",
      "Failed to build pyscf\n"
     ]
    },
    {
     "name": "stderr",
     "output_type": "stream",
     "text": [
      "  error: subprocess-exited-with-error\n",
      "  \n",
      "  Building wheel for pyscf (pyproject.toml) did not run successfully.\n",
      "  exit code: 1\n",
      "  \n",
      "  [19 lines of output]\n",
      "  running bdist_wheel\n",
      "  running build\n",
      "  running build_py\n",
      "  cmake -SC:\\Users\\Lenovo\\AppData\\Local\\Temp\\pip-install-bieo9r7w\\pyscf_4266a471d3fb412e9e15b56aa22be3bd\\pyscf\\lib -Bbuild\\temp.win-amd64\n",
      "  -- Building for: NMake Makefiles\n",
      "  CMake Error at CMakeLists.txt:16 (project):\n",
      "    Running\n",
      "  \n",
      "     'nmake' '-?'\n",
      "  \n",
      "    failed with:\n",
      "  \n",
      "     no such file or directory\n",
      "  \n",
      "  \n",
      "  CMake Error: CMAKE_C_COMPILER not set, after EnableLanguage\n",
      "  CMake Error: CMAKE_CXX_COMPILER not set, after EnableLanguage\n",
      "  -- Configuring incomplete, errors occurred!\n",
      "  error: command 'C:\\\\Users\\\\Lenovo\\\\AppData\\\\Local\\\\Temp\\\\pip-build-env-fgjc0yxg\\\\overlay\\\\Scripts\\\\cmake.EXE' failed with exit code 1\n",
      "  [end of output]\n",
      "  \n",
      "  note: This error originates from a subprocess, and is likely not a problem with pip.\n",
      "  ERROR: Failed building wheel for pyscf\n",
      "ERROR: Could not build wheels for pyscf, which is required to install pyproject.toml-based projects\n"
     ]
    }
   ],
   "source": [
    "!pip install pyscf"
   ]
  },
  {
   "cell_type": "code",
   "execution_count": 11,
   "id": "ad6976dd-a089-489c-943b-c2311b365b00",
   "metadata": {},
   "outputs": [
    {
     "name": "stdout",
     "output_type": "stream",
     "text": [
      "Name: qiskit-nature\n",
      "Version: 0.7.2\n",
      "Summary: Qiskit Nature: A library of quantum computing chemistry/physics experiments\n",
      "Home-page: https://github.com/Qiskit/qiskit-nature\n",
      "Author: Qiskit Nature Development Team\n",
      "Author-email: qiskit@us.ibm.com\n",
      "License: Apache-2.0\n",
      "Location: e:\\program_files\\anaconda3\\envs\\ibm_c\\lib\\site-packages\n",
      "Requires: h5py, numpy, psutil, qiskit, qiskit-algorithms, rustworkx, scipy, setuptools, typing-extensions\n",
      "Required-by: \n"
     ]
    }
   ],
   "source": [
    "!pip show qiskit_nature"
   ]
  },
  {
   "cell_type": "code",
   "execution_count": 10,
   "id": "bddbfdaf-0e93-49a3-8d86-3bdd219035fc",
   "metadata": {},
   "outputs": [
    {
     "name": "stderr",
     "output_type": "stream",
     "text": [
      "WARNING: Package(s) not found: pyscf\n"
     ]
    }
   ],
   "source": [
    "!pip show pyscf"
   ]
  },
  {
   "cell_type": "code",
   "execution_count": null,
   "id": "428ae325-8535-485d-8668-62e62588e601",
   "metadata": {},
   "outputs": [],
   "source": []
  }
 ],
 "metadata": {
  "kernelspec": {
   "display_name": "Python (ibm_2024)",
   "language": "python",
   "name": "ibm_2024"
  },
  "language_info": {
   "codemirror_mode": {
    "name": "ipython",
    "version": 3
   },
   "file_extension": ".py",
   "mimetype": "text/x-python",
   "name": "python",
   "nbconvert_exporter": "python",
   "pygments_lexer": "ipython3",
   "version": "3.10.14"
  }
 },
 "nbformat": 4,
 "nbformat_minor": 5
}
